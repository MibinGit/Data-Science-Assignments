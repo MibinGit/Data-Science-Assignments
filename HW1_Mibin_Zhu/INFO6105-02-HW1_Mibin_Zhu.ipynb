{
 "cells": [
  {
   "cell_type": "code",
   "execution_count": 2,
   "metadata": {},
   "outputs": [],
   "source": [
    "# 2019/2/10 Homework: submitted by the end of 2019/2/19 on Blackboard."
   ]
  },
  {
   "cell_type": "code",
   "execution_count": 3,
   "metadata": {},
   "outputs": [],
   "source": [
    "# Numpy Homework: 10 questions, 3 points per question, total 30 points."
   ]
  },
  {
   "cell_type": "code",
   "execution_count": 4,
   "metadata": {},
   "outputs": [],
   "source": [
    "# 1. create an array of 10 zeros, 10 ones, 10 fives."
   ]
  },
  {
   "cell_type": "code",
   "execution_count": 5,
   "metadata": {},
   "outputs": [
    {
     "name": "stdout",
     "output_type": "stream",
     "text": [
      "[0 0 0 0 0 0 0 0 0 0]\n",
      "[1 1 1 1 1 1 1 1 1 1]\n",
      "[5 5 5 5 5 5 5 5 5 5]\n"
     ]
    }
   ],
   "source": [
    "import numpy as np\n",
    "numpy1_1 = np.zeros((10), dtype = np.int)\n",
    "numpy1_2 = np.ones((10), dtype = np.int)\n",
    "numpy1_3 = np.array([5]*10)\n",
    "print(numpy1_1)\n",
    "print(numpy1_2)\n",
    "print(numpy1_3)"
   ]
  },
  {
   "cell_type": "code",
   "execution_count": 6,
   "metadata": {},
   "outputs": [],
   "source": [
    "# 2. create a 3x3x3 array filled with arbitrary values."
   ]
  },
  {
   "cell_type": "code",
   "execution_count": 7,
   "metadata": {},
   "outputs": [
    {
     "name": "stdout",
     "output_type": "stream",
     "text": [
      "[[[73 84 74]\n",
      "  [36 38 13]\n",
      "  [71 11  3]]\n",
      "\n",
      " [[86 95 50]\n",
      "  [13 42 31]\n",
      "  [ 1 18  1]]\n",
      "\n",
      " [[28 92 29]\n",
      "  [81 20 99]\n",
      "  [32 81 62]]]\n"
     ]
    }
   ],
   "source": [
    "# np.random.seed(0)\n",
    "numpy2 = np.random.randint(100, size=(3, 3, 3))\n",
    "print(numpy2)"
   ]
  },
  {
   "cell_type": "code",
   "execution_count": 8,
   "metadata": {},
   "outputs": [],
   "source": [
    "# 3. create an array with the values 1, 7, 13, 105 and \n",
    "# determine the size of the memory occupied by the array."
   ]
  },
  {
   "cell_type": "code",
   "execution_count": 9,
   "metadata": {},
   "outputs": [
    {
     "name": "stdout",
     "output_type": "stream",
     "text": [
      "[  1   7  13 105]\n"
     ]
    }
   ],
   "source": [
    "numpy3 = np.array([1, 7, 13, 105])\n",
    "print(numpy3)"
   ]
  },
  {
   "cell_type": "code",
   "execution_count": 10,
   "metadata": {},
   "outputs": [
    {
     "data": {
      "text/plain": [
       "128"
      ]
     },
     "execution_count": 10,
     "metadata": {},
     "output_type": "execute_result"
    }
   ],
   "source": [
    "import sys as sys\n",
    "sys.getsizeof(numpy3)"
   ]
  },
  {
   "cell_type": "code",
   "execution_count": 11,
   "metadata": {},
   "outputs": [],
   "source": [
    "# 4. create a 3x4 matrix filled with values from 10 to 21."
   ]
  },
  {
   "cell_type": "code",
   "execution_count": 12,
   "metadata": {},
   "outputs": [
    {
     "name": "stdout",
     "output_type": "stream",
     "text": [
      "[[10 11 12 13]\n",
      " [14 15 16 17]\n",
      " [18 19 20 21]]\n"
     ]
    }
   ],
   "source": [
    "# np.random.seed(0)\n",
    "from numpy import mat\n",
    "numpy4 = np.mat(np.arange(10, 22).reshape(3, 4))\n",
    "print(numpy4)"
   ]
  },
  {
   "cell_type": "code",
   "execution_count": 13,
   "metadata": {},
   "outputs": [],
   "source": [
    "# 5. create an 4x4 matrix in which 0 and 1 are staggered, with zeros on the main diagonal."
   ]
  },
  {
   "cell_type": "code",
   "execution_count": 14,
   "metadata": {},
   "outputs": [
    {
     "name": "stdout",
     "output_type": "stream",
     "text": [
      "[[0 1 0 1]\n",
      " [1 0 1 0]\n",
      " [0 1 0 1]\n",
      " [1 0 1 0]]\n"
     ]
    }
   ],
   "source": [
    "from numpy import mat\n",
    "array = np.zeros((4, 4), dtype = np.int)\n",
    "array[::2, 1::2] = 1\n",
    "array[1::2, ::2] = 1\n",
    "numpy5 = mat(array)\n",
    "print(numpy5)"
   ]
  },
  {
   "cell_type": "code",
   "execution_count": 15,
   "metadata": {},
   "outputs": [],
   "source": [
    "# 6. reverse an array (first element becomes last)\n",
    "# Original array: \n",
    "# [12 13 14 15 16 17 18 19 20 21 22]"
   ]
  },
  {
   "cell_type": "code",
   "execution_count": 16,
   "metadata": {},
   "outputs": [
    {
     "name": "stdout",
     "output_type": "stream",
     "text": [
      "[22 21 20 19 18 17 16 15 14 13 12]\n"
     ]
    }
   ],
   "source": [
    "numpy6_1 = np.array([12, 13, 14, 15, 16, 17, 18, 19, 20, 21, 22])\n",
    "numpy6_2 = numpy6_1[::-1]\n",
    "print(numpy6_2)"
   ]
  },
  {
   "cell_type": "code",
   "execution_count": 17,
   "metadata": {},
   "outputs": [],
   "source": [
    "# 7. convert a list and tuple into arrays.\n",
    "# List: [1, 2, 3, 4, 5, 6, 7, 8]\n",
    "# Tuple: ([8, 4, 6], [1, 2, 3])\n",
    "# Hint: see docstring: np.asarray?"
   ]
  },
  {
   "cell_type": "code",
   "execution_count": 18,
   "metadata": {},
   "outputs": [
    {
     "name": "stdout",
     "output_type": "stream",
     "text": [
      "List to array:\n",
      "[1 2 3 4 5 6 7 8]\n",
      " \n",
      "Tuple to array:\n",
      "[[8 4 6]\n",
      " [1 2 3]]\n"
     ]
    }
   ],
   "source": [
    "numpy7_list = [1, 2, 3, 4, 5, 6, 7, 8]\n",
    "numpy7_tup = ([8, 4, 6],[1, 2, 3])\n",
    "print(\"List to array:\")\n",
    "numpy7_1 = np.asarray(numpy7_list)\n",
    "print(numpy7_1)\n",
    "print(\" \")\n",
    "print(\"Tuple to array:\")\n",
    "numpy7_2 = np.asarray(numpy7_tup)\n",
    "print(numpy7_2)"
   ]
  },
  {
   "cell_type": "code",
   "execution_count": 19,
   "metadata": {},
   "outputs": [],
   "source": [
    "# Desired Output\n",
    "# List to array:\n",
    "# [1 2 3 4 5 6 7 8] \n",
    "# Tuple to array:\n",
    "# [[8 4 6] \n",
    "# [1 2 3]]"
   ]
  },
  {
   "cell_type": "code",
   "execution_count": 20,
   "metadata": {},
   "outputs": [],
   "source": [
    "# 8. append values to the end of an array"
   ]
  },
  {
   "cell_type": "code",
   "execution_count": 21,
   "metadata": {},
   "outputs": [
    {
     "name": "stdout",
     "output_type": "stream",
     "text": [
      "Original array:\n",
      "[10 20 30]\n",
      " \n",
      "After append values to the end of the array:\n",
      "[10 20 30 40 50 60 70 80 90]\n"
     ]
    }
   ],
   "source": [
    "numpy8 = np.array([10, 20, 30])\n",
    "print(\"Original array:\")\n",
    "print(numpy8)\n",
    "print(\" \")\n",
    "print(\"After append values to the end of the array:\")\n",
    "append = [40, 50, 60, 70, 80, 90]\n",
    "numpy8 = np.concatenate([numpy8, append])\n",
    "print(numpy8)"
   ]
  },
  {
   "cell_type": "code",
   "execution_count": 22,
   "metadata": {},
   "outputs": [],
   "source": [
    "# Desired Output\n",
    "# Original array:\n",
    "# [10, 20, 30]\n",
    "# After append values to the end of the array:\n",
    "# [10 20 30 40 50 60 70 80 90]"
   ]
  },
  {
   "cell_type": "code",
   "execution_count": 23,
   "metadata": {},
   "outputs": [],
   "source": [
    "# 9. create a random array with 1000 elements and compute the average, \n",
    "#    variance, standard deviation of the array elements."
   ]
  },
  {
   "cell_type": "code",
   "execution_count": 24,
   "metadata": {},
   "outputs": [
    {
     "name": "stdout",
     "output_type": "stream",
     "text": [
      "Average of the array elements:\n",
      "5015.898\n",
      " \n",
      "Standard deviation of the array elements:\n",
      "2867.4130332233444\n",
      " \n",
      "Variance of the array elements:\n",
      "8213835.445596001\n"
     ]
    }
   ],
   "source": [
    "# np.random.seed(0)\n",
    "numpy9 = np.random.randint(10000, size=(1000))\n",
    "print(\"Average of the array elements:\")\n",
    "print(np.mean(numpy9))\n",
    "print(\" \")\n",
    "print(\"Standard deviation of the array elements:\")\n",
    "print(np.std(numpy9, ddof = 1))\n",
    "print(\" \")\n",
    "print(\"Variance of the array elements:\")\n",
    "print(np.var(numpy9))"
   ]
  },
  {
   "cell_type": "code",
   "execution_count": 25,
   "metadata": {},
   "outputs": [],
   "source": [
    "# Desired Output (random number, different results but the format is below)\n",
    "# Average of the array elements:\n",
    "# xxxxxxxxx\n",
    "# Standard deviation of the array elements:\n",
    "# xxxxxxxxx\n",
    "# Variance of the array elements:\n",
    "# xxxxxxxxx"
   ]
  },
  {
   "cell_type": "code",
   "execution_count": 26,
   "metadata": {},
   "outputs": [],
   "source": [
    "# 10. compute the trigonometric sine, cosine and tangent array of angles given in degrees.\n",
    "# Sample degree: 0, 30, 45, 60, 90"
   ]
  },
  {
   "cell_type": "code",
   "execution_count": 27,
   "metadata": {},
   "outputs": [
    {
     "name": "stdout",
     "output_type": "stream",
     "text": [
      "[0.         0.52359878 0.78539816 1.04719755 1.57079633]\n"
     ]
    }
   ],
   "source": [
    "import math as math\n",
    "radians0 = math.radians(0)\n",
    "radians30 = math.radians(30)\n",
    "radians45 = math.radians(45)\n",
    "radians60 = math.radians(60)\n",
    "radians90 = math.radians(90)\n",
    "numpy10 = np.array([radians0, radians30, radians45, radians60, radians90])\n",
    "print(numpy10)"
   ]
  },
  {
   "cell_type": "code",
   "execution_count": 28,
   "metadata": {},
   "outputs": [
    {
     "name": "stdout",
     "output_type": "stream",
     "text": [
      "sine: array of angles given in degrees\n",
      "[0.         0.5        0.70710678 0.8660254  1.        ]\n",
      " \n",
      "cosine: array of angles given in degrees\n",
      "[1.00000000e+00 8.66025404e-01 7.07106781e-01 5.00000000e-01\n",
      " 6.12323400e-17]\n",
      " \n",
      "tangent: array of angles given in degrees\n",
      "[0.00000000e+00 5.77350269e-01 1.00000000e+00 1.73205081e+00\n",
      " 1.63312394e+16]\n"
     ]
    }
   ],
   "source": [
    "print(\"sine: array of angles given in degrees\")\n",
    "print(np.sin(numpy10))\n",
    "print(\" \")\n",
    "print(\"cosine: array of angles given in degrees\")\n",
    "print(np.cos(numpy10))\n",
    "print(\" \")\n",
    "print(\"tangent: array of angles given in degrees\")\n",
    "print(np.tan(numpy10))"
   ]
  },
  {
   "cell_type": "code",
   "execution_count": 29,
   "metadata": {},
   "outputs": [],
   "source": [
    "# Desired Output\n",
    "# sine: array of angles given in degrees\n",
    "# [0.         0.5        0.70710678 0.8660254  1.        ]\n",
    "# cosine: array of angles given in degrees\n",
    "# [1.00000000e+00 8.66025404e-01 7.07106781e-01 5.00000000e-01\n",
    "#  6.12323400e-17]\n",
    "# tangent: array of angles given in degrees\n",
    "# [0.00000000e+00 5.77350269e-01 1.00000000e+00 1.73205081e+00\n",
    "#  1.63312394e+16]"
   ]
  },
  {
   "cell_type": "code",
   "execution_count": null,
   "metadata": {},
   "outputs": [],
   "source": []
  },
  {
   "cell_type": "code",
   "execution_count": 30,
   "metadata": {},
   "outputs": [],
   "source": [
    "# Pandas Homework: 8 questions, total 50 points."
   ]
  },
  {
   "cell_type": "code",
   "execution_count": 31,
   "metadata": {},
   "outputs": [
    {
     "data": {
      "text/plain": [
       "'0.23.4'"
      ]
     },
     "execution_count": 31,
     "metadata": {},
     "output_type": "execute_result"
    }
   ],
   "source": [
    "import pandas as pd\n",
    "pd.__version__"
   ]
  },
  {
   "cell_type": "code",
   "execution_count": 32,
   "metadata": {},
   "outputs": [
    {
     "name": "stdout",
     "output_type": "stream",
     "text": [
      "Original Data Series:\n",
      "0     1\n",
      "1     2\n",
      "2     3\n",
      "3     4\n",
      "4     5\n",
      "5     6\n",
      "6     7\n",
      "7     8\n",
      "8     9\n",
      "9     5\n",
      "10    3\n",
      "dtype: int64\n",
      " \n",
      "Mean of the said Data Series:\n",
      "4.818181818181818\n",
      " \n",
      "Standard deviation of the said Data Series:\n",
      "2.522624895547565\n"
     ]
    }
   ],
   "source": [
    "# 1. [5 points]: create the mean and standard deviation of the data of a given Series.\n",
    "pandas1 = pd.Series(data = [1,2,3,4,5,6,7,8,9,5,3])\n",
    "print(\"Original Data Series:\")\n",
    "print(pandas1)\n",
    "print(\" \")\n",
    "print(\"Mean of the said Data Series:\")\n",
    "print(pd.DataFrame.mean(pandas1))\n",
    "print(\" \")\n",
    "print(\"Standard deviation of the said Data Series:\")\n",
    "print(pd.DataFrame.std(pandas1, ddof = 1))"
   ]
  },
  {
   "cell_type": "code",
   "execution_count": 33,
   "metadata": {},
   "outputs": [],
   "source": [
    "# Desired Output\n",
    "# Original Data Series:\n",
    "# 0     1\n",
    "# 1     2\n",
    "# 2     3\n",
    "# 3     4\n",
    "# 4     5\n",
    "# 5     6\n",
    "# 6     7\n",
    "# 7     8\n",
    "# 8     9\n",
    "# 9     5\n",
    "# 10    3\n",
    "# dtype: int64\n",
    "# Mean of the said Data Series:\n",
    "# 4.81818181818\n",
    "# Standard deviation of the said Data Series:\n",
    "# 2.52262489555"
   ]
  },
  {
   "cell_type": "code",
   "execution_count": 34,
   "metadata": {},
   "outputs": [
    {
     "name": "stdout",
     "output_type": "stream",
     "text": [
      "Series1:\n",
      "0     2\n",
      "1     4\n",
      "2     6\n",
      "3     8\n",
      "4    10\n",
      "dtype: int64\n",
      " \n",
      "Series2:\n",
      "0     1\n",
      "1     3\n",
      "2     5\n",
      "3     7\n",
      "4    10\n",
      "dtype: int64\n",
      " \n",
      "Compare the elements of the said Series:\n",
      "Equals:\n",
      "0    False\n",
      "1    False\n",
      "2    False\n",
      "3    False\n",
      "4     True\n",
      "dtype: bool\n",
      " \n",
      "Greater than:\n",
      "0     True\n",
      "1     True\n",
      "2     True\n",
      "3     True\n",
      "4    False\n",
      "dtype: bool\n",
      " \n",
      "Less than:\n",
      "0    False\n",
      "1    False\n",
      "2    False\n",
      "3    False\n",
      "4    False\n",
      "dtype: bool\n"
     ]
    }
   ],
   "source": [
    "# 2. [5 points]: compare the elements of the two Pandas Series.\n",
    "# Sample Series: [2, 4, 6, 8, 10], [1, 3, 5, 7, 9]\n",
    "pandas2_1 = pd.Series(data = [2, 4, 6, 8, 10])\n",
    "pandas2_2 = pd.Series(data = [1, 3, 5, 7, 10])\n",
    "print(\"Series1:\")\n",
    "print(pandas2_1)\n",
    "print(\" \")\n",
    "print(\"Series2:\")\n",
    "print(pandas2_2)\n",
    "print(\" \")\n",
    "print(\"Compare the elements of the said Series:\")\n",
    "print(\"Equals:\")\n",
    "print(pandas2_1 == pandas2_2)\n",
    "print(\" \")\n",
    "print(\"Greater than:\")\n",
    "print(pandas2_1 > pandas2_2)\n",
    "print(\" \")\n",
    "print(\"Less than:\")\n",
    "print(pandas2_1 < pandas2_2)"
   ]
  },
  {
   "cell_type": "code",
   "execution_count": 35,
   "metadata": {},
   "outputs": [],
   "source": [
    "# Desired Output\n",
    "# Series1:\n",
    "# 0     2\n",
    "# 1     4\n",
    "# 2     6\n",
    "# 3     8\n",
    "# 4    10\n",
    "# dtype: int64\n",
    "# Series2:\n",
    "# 0     1\n",
    "# 1     3\n",
    "# 2     5\n",
    "# 3     7\n",
    "# 4    10\n",
    "# dtype: int64\n",
    "# Compare the elements of the said Series:\n",
    "# Equals:\n",
    "# 0    False\n",
    "# 1    False\n",
    "# 2    False\n",
    "# 3    False\n",
    "# 4     True\n",
    "# dtype: bool\n",
    "# Greater than:\n",
    "# 0     True\n",
    "# 1     True\n",
    "# 2     True\n",
    "# 3     True\n",
    "# 4    False\n",
    "# dtype: bool\n",
    "# Less than:\n",
    "# 0    False\n",
    "# 1    False\n",
    "# 2    False\n",
    "# 3    False\n",
    "# 4    False\n",
    "# dtype: bool"
   ]
  },
  {
   "cell_type": "code",
   "execution_count": 36,
   "metadata": {},
   "outputs": [
    {
     "name": "stdout",
     "output_type": "stream",
     "text": [
      "NumPy array:\n",
      "[10 20 30 40 50]\n",
      " \n",
      "Converted Pandas series:\n",
      "0    10\n",
      "1    20\n",
      "2    30\n",
      "3    40\n",
      "4    50\n",
      "dtype: int64\n",
      " \n",
      "Original dictionary:\n",
      "{'a': 100, 'b': 200, 'c': 300, 'd': 400, 'e': 800}\n",
      " \n",
      "Converted series:\n",
      "a    100\n",
      "b    200\n",
      "c    300\n",
      "d    400\n",
      "e    800\n",
      "dtype: int64\n"
     ]
    }
   ],
   "source": [
    "# 3. [5 points]: convert a NumPy array and a dictionary to Pandas series.\n",
    "# Sample NumPy array: d1 = [10, 20, 30, 40, 50]\n",
    "# Sample dictionary: d1 = {'a': 100, 'b': 200, 'c':300, 'd':400, 'e':800}\n",
    "pandas3_array = np.array([10, 20, 30, 40, 50])\n",
    "print(\"NumPy array:\")\n",
    "print(pandas3_array)\n",
    "print(\" \")\n",
    "print(\"Converted Pandas series:\")\n",
    "pandas3_1 = pd.Series(pandas3_array)\n",
    "print(pandas3_1)\n",
    "print(\" \")\n",
    "\n",
    "pandas3_dictionary = {'a': 100, 'b': 200, 'c': 300, 'd': 400, 'e': 800}\n",
    "print(\"Original dictionary:\")\n",
    "print(pandas3_dictionary)\n",
    "print(\" \")\n",
    "print(\"Converted series:\")\n",
    "pandas3_2 = pd.Series(pandas3_dictionary)\n",
    "print(pandas3_2)"
   ]
  },
  {
   "cell_type": "code",
   "execution_count": 37,
   "metadata": {},
   "outputs": [],
   "source": [
    "# Desired Output\n",
    "# NumPy array:\n",
    "# [10 20 30 40 50]\n",
    "# Converted Pandas series:\n",
    "# 0    10\n",
    "# 1    20\n",
    "# 2    30\n",
    "# 3    40\n",
    "# 4    50\n",
    "# dtype: int32\n",
    "# Original dictionary:\n",
    "# {'a': 100, 'b': 200, 'c': 300, 'd': 400, 'e': 800}\n",
    "# Converted series:\n",
    "# a    100\n",
    "# b    200\n",
    "# c    300\n",
    "# d    400\n",
    "# e    800\n",
    "# dtype: int64"
   ]
  },
  {
   "cell_type": "code",
   "execution_count": 38,
   "metadata": {},
   "outputs": [
    {
     "name": "stdout",
     "output_type": "stream",
     "text": [
      "Original DataFrame:\n",
      "   col1  col2  col3\n",
      "0     1     4     7\n",
      "1     2     5     5\n",
      "2     3     6     8\n",
      "3     4     9    12\n",
      "4     7     5     1\n",
      "5    11     0    11\n",
      " \n",
      "1st column as a Series:\n",
      "0     1\n",
      "1     2\n",
      "2     3\n",
      "3     4\n",
      "4     7\n",
      "5    11\n",
      "Name: col1, dtype: int64\n"
     ]
    }
   ],
   "source": [
    "# 4.[5 points]: convert the first column of a DataFrame as a Series.\n",
    "# Sample data:\n",
    "#     col1  col2  col3\n",
    "# 0     1     4     7\n",
    "# 1     2     5     5\n",
    "# 2     3     6     8\n",
    "# 3     4     9    12\n",
    "# 4     7     5     1\n",
    "# 5    11     0    11\n",
    "print(\"Original DataFrame:\")\n",
    "col1 = pd.Series({'0': 1, '1': 2,\n",
    "                  '2': 3, '3': 4,\n",
    "                  '4': 7, '5': 11})\n",
    "\n",
    "col2 = pd.Series({'0': 4, '1': 5,\n",
    "                  '2': 6, '3': 9,\n",
    "                  '4': 5, '5': 0})\n",
    "\n",
    "col3 = pd.Series({'0': 7, '1': 5,\n",
    "                  '2': 8, '3': 12,\n",
    "                  '4': 1, '5': 11})\n",
    "pandas4_dataframe = pd.DataFrame({'col1':col1, 'col2':col2, 'col3':col3})\n",
    "print(pandas4_dataframe)\n",
    "print(\" \")\n",
    "print(\"1st column as a Series:\")\n",
    "pandas4 = pd.Series(pandas4_dataframe['col1'])\n",
    "print(pandas4)   "
   ]
  },
  {
   "cell_type": "code",
   "execution_count": 39,
   "metadata": {},
   "outputs": [],
   "source": [
    "# Desired Output\n",
    "# Original DataFrame\n",
    "#    col1  col2  col3\n",
    "# 0     1     4     7\n",
    "# 1     2     5     5\n",
    "# 2     3     6     8\n",
    "# 3     4     9    12\n",
    "# 4     7     5     1\n",
    "# 5    11     0    11\n",
    "\n",
    "# 1st column as a Series:\n",
    "# 0     1\n",
    "# 1     2\n",
    "# 2     3\n",
    "# 3     4\n",
    "# 4     7\n",
    "# 5    11\n",
    "# Name: col1, dtype: int64\n",
    "# <class 'pandas.core.series.Series'>"
   ]
  },
  {
   "cell_type": "code",
   "execution_count": 40,
   "metadata": {},
   "outputs": [
    {
     "name": "stdout",
     "output_type": "stream",
     "text": [
      "Original DataFrame:\n",
      "        name  score  attempts qualify\n",
      "0  Anastasia   12.5         1     yes\n",
      "1       Dima    9.0         3      no\n",
      "2  Katherine   16.5         2     yes\n",
      "3      James    NaN         3      no\n",
      "4      Emily    9.0         2      no\n",
      "5    Michael   20.0         3     yes\n",
      "6    Matthew   14.5         1     yes\n",
      "7      Laura    NaN         1      no\n",
      "8      Kevin    8.0         2      no\n",
      "9      Jonas   19.0         1     yes\n",
      " \n",
      "New DataFrame replacing all NaN with 0:\n",
      "        name  score  attempts qualify\n",
      "0  Anastasia   12.5         1     yes\n",
      "1       Dima    9.0         3      no\n",
      "2  Katherine   16.5         2     yes\n",
      "3      James    0.0         3      no\n",
      "4      Emily    9.0         2      no\n",
      "5    Michael   20.0         3     yes\n",
      "6    Matthew   14.5         1     yes\n",
      "7      Laura    0.0         1      no\n",
      "8      Kevin    8.0         2      no\n",
      "9      Jonas   19.0         1     yes\n"
     ]
    }
   ],
   "source": [
    "# 5. [5 points]: replace all the NaN values with Zero's in a column of a dataframe.\n",
    "# Sample data:\n",
    "# Original DataFrame\n",
    "# attempts name qualify score\n",
    "# 0 1 Anastasia yes 12.5\n",
    "# 1 3 Dima no 9.0\n",
    "# 2 2 Katherine yes 16.5\n",
    "# 3 3 James no NaN\n",
    "# 4 2 Emily no 9.0\n",
    "# 5 3 Michael yes 20.0\n",
    "# 6 1 Matthew yes 14.5\n",
    "# 7 1 Laura no NaN\n",
    "# 8 2 Kevin no 8.0\n",
    "# 9 1 Jonas yes 19.0\n",
    "# New DataFrame replacing all NaN with 0:\n",
    "# attempts name qualify score\n",
    "# 0 1 Anastasia yes 12.5\n",
    "# 1 3 Dima no 9.0\n",
    "# 2 2 Katherine yes 16.5\n",
    "# 3 3 James no 0.0\n",
    "# 4 2 Emily no 9.0\n",
    "# 5 3 Michael yes 20.0\n",
    "# 6 1 Matthew yes 14.5\n",
    "# 7 1 Laura no 0.0\n",
    "# 8 2 Kevin no 8.0\n",
    "# 9 1 Jonas yes 19.0\n",
    "print(\"Original DataFrame:\")\n",
    "attempts = pd.Series({'0': 1, '1': 3,\n",
    "                      '2': 2, '3': 3,\n",
    "                      '4': 2, '5': 3,\n",
    "                      '6': 1, '7': 1,\n",
    "                      '8': 2, '9': 1})\n",
    "\n",
    "name = pd.Series({'0': \"Anastasia\", '1': \"Dima\",\n",
    "                  '2': \"Katherine\", '3': \"James\",\n",
    "                  '4': \"Emily\", '5': \"Michael\",\n",
    "                  '6': \"Matthew\", '7': \"Laura\",\n",
    "                  '8': \"Kevin\", '9': \"Jonas\"})\n",
    "\n",
    "qualify = pd.Series({'0': \"yes\", '1': \"no\",\n",
    "                     '2': \"yes\", '3': \"no\",\n",
    "                     '4': \"no\", '5': \"yes\",\n",
    "                     '6': \"yes\", '7': \"no\",\n",
    "                     '8': \"no\", '9': \"yes\"})\n",
    "\n",
    "score = pd.Series({'0': 12.5, '1': 9.0,\n",
    "                   '2': 16.5, '3': np.nan,\n",
    "                   '4': 9.0, '5': 20.0,\n",
    "                   '6': 14.5, '7': np.nan,\n",
    "                   '8': 8.0, '9': 19.0})\n",
    "pandas5_dataframe = pd.DataFrame({'name':name, 'score':score, 'attempts':attempts, 'qualify':qualify})\n",
    "print(pandas5_dataframe)\n",
    "print(\" \")\n",
    "\n",
    "print(\"New DataFrame replacing all NaN with 0:\")\n",
    "print(pandas5_dataframe.fillna(0))"
   ]
  },
  {
   "cell_type": "code",
   "execution_count": 41,
   "metadata": {},
   "outputs": [],
   "source": [
    "# Desired Output\n",
    "# Original DataFrame\n",
    "#         name  score  attempts qualify\n",
    "# 0  Anastasia   12.5         1     yes\n",
    "# 1       Dima    9.0         3      no\n",
    "# 2  Katherine   16.5         2     yes\n",
    "# 3      James    NaN         3      no\n",
    "# 4      Emily    9.0         2      no\n",
    "# 5    Michael   20.0         3     yes\n",
    "# 6    Matthew   14.5         1     yes\n",
    "# 7      Laura    NaN         1      no\n",
    "# 8      Kevin    8.0         2      no\n",
    "# 9      Jonas   19.0         1     yes\n",
    "\n",
    "# New DataFrame replacing all NaN with 0:\n",
    "#         name  score  attempts qualify\n",
    "# 0  Anastasia   12.5         1     yes\n",
    "# 1       Dima    9.0         3      no\n",
    "# 2  Katherine   16.5         2     yes\n",
    "# 3      James    0.0         3      no\n",
    "# 4      Emily    9.0         2      no\n",
    "# 5    Michael   20.0         3     yes\n",
    "# 6    Matthew   14.5         1     yes\n",
    "# 7      Laura    0.0         1      no\n",
    "# 8      Kevin    8.0         2      no\n",
    "# 9      Jonas   19.0         1     yes"
   ]
  },
  {
   "cell_type": "code",
   "execution_count": 42,
   "metadata": {},
   "outputs": [
    {
     "name": "stdout",
     "output_type": "stream",
     "text": [
      "Original Data Series:\n",
      "0       100\n",
      "1       200\n",
      "2    python\n",
      "3    300.12\n",
      "4       400\n",
      "dtype: object\n",
      " \n",
      "0       100\n",
      "1       200\n",
      "3    300.12\n",
      "4       400\n",
      "2    python\n",
      "dtype: object\n",
      " \n",
      "Data Series after adding some data:\n",
      "0       100\n",
      "1       200\n",
      "2    python\n",
      "3    300.12\n",
      "4       400\n",
      "0       500\n",
      "1       php\n",
      "dtype: object\n"
     ]
    }
   ],
   "source": [
    "# 6. [5 points]: sort a given Series; add some data ['500', 'php'] to an existing Series;\n",
    "# Original Data Series:\n",
    "# 0       100\n",
    "# 1       200\n",
    "# 2    python\n",
    "# 3    300.12\n",
    "# 4       400\n",
    "print(\"Original Data Series:\")\n",
    "pandas6 = [\"100\", \"200\", \"python\", \"300.12\", \"400\"]\n",
    "pandas6_1 = pd.Series(pandas6)\n",
    "print(pandas6_1)\n",
    "print(\" \")\n",
    "pandas6_2 = pandas6_1.sort_values()\n",
    "print(pandas6_2)\n",
    "print(\" \")\n",
    "print(\"Data Series after adding some data:\")\n",
    "newSeries = [\"500\", \"php\"]\n",
    "pandas6_3 = pd.Series(newSeries)\n",
    "pandas6_4 = pd.concat([pandas6_1, pandas6_3])\n",
    "print(pandas6_4)"
   ]
  },
  {
   "cell_type": "code",
   "execution_count": 43,
   "metadata": {},
   "outputs": [],
   "source": [
    "# Desired Output\n",
    "# Original Data Series:\n",
    "# 0       100\n",
    "# 1       200\n",
    "# 2    python\n",
    "# 3    300.12\n",
    "# 4       400\n",
    "# dtype: object\n",
    "# 0       100\n",
    "# 1       200\n",
    "# 3    300.12\n",
    "# 4       400\n",
    "# 2    python\n",
    "# dtype: object\n",
    "\n",
    "# Data Series after adding some data:\n",
    "# 0       100\n",
    "# 1       200\n",
    "# 2    python\n",
    "# 3    300.12\n",
    "# 4       400\n",
    "# 0       500\n",
    "# 1       php\n",
    "# dtype: object"
   ]
  },
  {
   "cell_type": "code",
   "execution_count": 44,
   "metadata": {},
   "outputs": [
    {
     "name": "stdout",
     "output_type": "stream",
     "text": [
      "Original DataFrame:\n",
      "   col1  col2  col3\n",
      "0     1     4     7\n",
      "1     2     5     5\n",
      "2     3     6     8\n",
      "3     4     9    12\n",
      "4     7     5     1\n",
      "5    11     0    11\n",
      " \n",
      "Number of columns:\n",
      "3\n",
      " \n",
      "All columns except 'col3':\n",
      "   col1  col2\n",
      "0     1     4\n",
      "1     2     5\n",
      "2     3     6\n",
      "3     4     9\n",
      "4     7     5\n",
      "5    11     0\n",
      " \n",
      "After removing first 3 rows of the DataFrame:\n",
      "   col1  col2  col3\n",
      "3     4     9    12\n",
      "4     7     5     1\n",
      "5    11     0    11\n",
      " \n",
      "After removing last 3 rows of the DataFrame:\n",
      "   col1  col2  col3\n",
      "0     1     4     7\n",
      "1     2     5     5\n",
      "2     3     6     8\n"
     ]
    }
   ],
   "source": [
    "# 7. [10 points]: count number of columns of the DataFrame; select all columns, except one given column 'col3'; \n",
    "# remove first 3 rows of the DataFrame; remove last 3 rows of the DataFrame;\n",
    "# Sample Data:\n",
    "#     col1  col2  col3\n",
    "# 0     1     4     7\n",
    "# 1     2     5     5\n",
    "# 2     3     6     8\n",
    "# 3     4     9    12\n",
    "# 4     7     5     1\n",
    "# 5    11     0    11\n",
    "print(\"Original DataFrame:\")\n",
    "col1 = pd.Series({'0': 1, '1': 2,\n",
    "                  '2': 3, '3': 4,\n",
    "                  '4': 7, '5': 11})\n",
    "\n",
    "col2 = pd.Series({'0': 4, '1': 5,\n",
    "                  '2': 6, '3': 9,\n",
    "                  '4': 5, '5': 0})\n",
    "\n",
    "col3 = pd.Series({'0': 7, '1': 5,\n",
    "                  '2': 8, '3': 12,\n",
    "                  '4': 1, '5': 11})\n",
    "pandas7_dataframe = pd.DataFrame({'col1':col1, 'col2':col2, 'col3':col3})\n",
    "print(pandas7_dataframe)\n",
    "print(\" \")\n",
    "print(\"Number of columns:\")\n",
    "print(pandas7_dataframe.shape[1])\n",
    "print(\" \")\n",
    "print(\"All columns except 'col3':\")\n",
    "pandas7_dataframe_1 = pandas7_dataframe.drop('col3', 1);\n",
    "print(pandas7_dataframe_1)\n",
    "print(\" \")\n",
    "print(\"After removing first 3 rows of the DataFrame:\")\n",
    "pandas7_dataframe_2 = pandas7_dataframe.drop([\"0\", \"1\", \"2\"])\n",
    "print(pandas7_dataframe_2)\n",
    "print(\" \")\n",
    "print(\"After removing last 3 rows of the DataFrame:\")\n",
    "pandas7_dataframe_3 = pandas7_dataframe.drop([\"3\", \"4\", \"5\"])\n",
    "print(pandas7_dataframe_3)"
   ]
  },
  {
   "cell_type": "code",
   "execution_count": 45,
   "metadata": {},
   "outputs": [],
   "source": [
    "# Desired Output:\n",
    "# Original DataFrame\n",
    "#    col1  col2  col3\n",
    "# 0     1     4     7\n",
    "# 1     2     5     5\n",
    "# 2     3     6     8\n",
    "# 3     4     9    12\n",
    "# 4     7     5     1\n",
    "# 5    11     0    11\n",
    "\n",
    "# Number of columns:\n",
    "# 3\n",
    "\n",
    "# All columns except 'col3':\n",
    "#    col1  col2\n",
    "# 0     1     4\n",
    "# 1     2     5\n",
    "# 2     3     6\n",
    "# 3     4     9\n",
    "# 4     7     5\n",
    "# 5    11     0\n",
    "\n",
    "# After removing first 3 rows of the DataFrame:\n",
    "#    col1  col2  col3\n",
    "# 3     4     9    12\n",
    "# 4     7     5     1\n",
    "# 5    11     0    11\n",
    "\n",
    "# After removing last 3 rows of the DataFrame:\n",
    "#    col1  col2  col3\n",
    "# 0     1     4     7\n",
    "# 1     2     5     5\n",
    "# 2     3     6     8"
   ]
  },
  {
   "cell_type": "code",
   "execution_count": 46,
   "metadata": {},
   "outputs": [],
   "source": [
    "# 8. [10 points]: \n",
    "# 1. read data from movies.csv file to Pandas\n",
    "# 2. get the information of the DataFrame (movies.csv file) including data types and memory usage.\n",
    "# 3. count the number of rows and columns of the DataFrame \n",
    "# 4. get the details of fifth movie of the DataFrame.\n",
    "# 5. display the movies (title, runtime)longer than 30 minutes and shorter than 360 minutes."
   ]
  },
  {
   "cell_type": "code",
   "execution_count": 47,
   "metadata": {},
   "outputs": [
    {
     "name": "stdout",
     "output_type": "stream",
     "text": [
      "2. Data Types:\n",
      "<class 'pandas.core.frame.DataFrame'>\n",
      " \n",
      "2. Memory Usage:\n",
      "85087\n"
     ]
    }
   ],
   "source": [
    "pandas8 = pd.read_csv('movies.csv')\n",
    "import sys as sys\n",
    "print(\"2. Data Types:\")\n",
    "print(type(pandas8))\n",
    "print(\" \")\n",
    "print(\"2. Memory Usage:\")\n",
    "print(sys.getsizeof(pandas8))"
   ]
  },
  {
   "cell_type": "code",
   "execution_count": 48,
   "metadata": {},
   "outputs": [
    {
     "name": "stdout",
     "output_type": "stream",
     "text": [
      "3. Number of rows:\n",
      "50\n",
      " \n",
      "3. Number of columns:\n",
      "24\n"
     ]
    }
   ],
   "source": [
    "print(\"3. Number of rows:\")\n",
    "print(pandas8.shape[0])\n",
    "print(\" \")\n",
    "print(\"3. Number of columns:\")\n",
    "print(pandas8.shape[1])"
   ]
  },
  {
   "cell_type": "code",
   "execution_count": 49,
   "metadata": {},
   "outputs": [
    {
     "name": "stdout",
     "output_type": "stream",
     "text": [
      "4. The Details Of Fifth Movie:\n"
     ]
    },
    {
     "data": {
      "text/html": [
       "<div>\n",
       "<style scoped>\n",
       "    .dataframe tbody tr th:only-of-type {\n",
       "        vertical-align: middle;\n",
       "    }\n",
       "\n",
       "    .dataframe tbody tr th {\n",
       "        vertical-align: top;\n",
       "    }\n",
       "\n",
       "    .dataframe thead th {\n",
       "        text-align: right;\n",
       "    }\n",
       "</style>\n",
       "<table border=\"1\" class=\"dataframe\">\n",
       "  <thead>\n",
       "    <tr style=\"text-align: right;\">\n",
       "      <th></th>\n",
       "      <th>adult</th>\n",
       "      <th>belongs_to_collection</th>\n",
       "      <th>budget</th>\n",
       "      <th>genres</th>\n",
       "      <th>homepage</th>\n",
       "      <th>id</th>\n",
       "      <th>imdb_id</th>\n",
       "      <th>original_language</th>\n",
       "      <th>original_title</th>\n",
       "      <th>overview</th>\n",
       "      <th>...</th>\n",
       "      <th>release_date</th>\n",
       "      <th>revenue</th>\n",
       "      <th>runtime</th>\n",
       "      <th>spoken_languages</th>\n",
       "      <th>status</th>\n",
       "      <th>tagline</th>\n",
       "      <th>title</th>\n",
       "      <th>video</th>\n",
       "      <th>vote_average</th>\n",
       "      <th>vote_count</th>\n",
       "    </tr>\n",
       "  </thead>\n",
       "  <tbody>\n",
       "    <tr>\n",
       "      <th>4</th>\n",
       "      <td>False</td>\n",
       "      <td>{'id': 96871, 'name': 'Father of the Bride Col...</td>\n",
       "      <td>0</td>\n",
       "      <td>[{'id': 35, 'name': 'Comedy'}]</td>\n",
       "      <td>NaN</td>\n",
       "      <td>11862</td>\n",
       "      <td>tt0113041</td>\n",
       "      <td>en</td>\n",
       "      <td>Father of the Bride Part II</td>\n",
       "      <td>Just when George Banks has recovered from his ...</td>\n",
       "      <td>...</td>\n",
       "      <td>1995-02-10</td>\n",
       "      <td>76578911</td>\n",
       "      <td>106.0</td>\n",
       "      <td>[{'iso_639_1': 'en', 'name': 'English'}]</td>\n",
       "      <td>Released</td>\n",
       "      <td>Just When His World Is Back To Normal... He's ...</td>\n",
       "      <td>Father of the Bride Part II</td>\n",
       "      <td>False</td>\n",
       "      <td>5.7</td>\n",
       "      <td>173</td>\n",
       "    </tr>\n",
       "  </tbody>\n",
       "</table>\n",
       "<p>1 rows × 24 columns</p>\n",
       "</div>"
      ],
      "text/plain": [
       "   adult                              belongs_to_collection  budget  \\\n",
       "4  False  {'id': 96871, 'name': 'Father of the Bride Col...       0   \n",
       "\n",
       "                           genres homepage     id    imdb_id  \\\n",
       "4  [{'id': 35, 'name': 'Comedy'}]      NaN  11862  tt0113041   \n",
       "\n",
       "  original_language               original_title  \\\n",
       "4                en  Father of the Bride Part II   \n",
       "\n",
       "                                            overview    ...      release_date  \\\n",
       "4  Just when George Banks has recovered from his ...    ...        1995-02-10   \n",
       "\n",
       "    revenue runtime                          spoken_languages    status  \\\n",
       "4  76578911   106.0  [{'iso_639_1': 'en', 'name': 'English'}]  Released   \n",
       "\n",
       "                                             tagline  \\\n",
       "4  Just When His World Is Back To Normal... He's ...   \n",
       "\n",
       "                         title  video vote_average vote_count  \n",
       "4  Father of the Bride Part II  False          5.7        173  \n",
       "\n",
       "[1 rows x 24 columns]"
      ]
     },
     "execution_count": 49,
     "metadata": {},
     "output_type": "execute_result"
    }
   ],
   "source": [
    "print(\"4. The Details Of Fifth Movie:\")\n",
    "pandas8_info = pandas8.loc[[4],:]\n",
    "pandas8_info"
   ]
  },
  {
   "cell_type": "code",
   "execution_count": 50,
   "metadata": {},
   "outputs": [
    {
     "name": "stdout",
     "output_type": "stream",
     "text": [
      "5. Display the Movies (Title, Runtime) Longer than 30 Minutes and Shorter than 360 Minutes:\n",
      "                             title  runtime\n",
      "0                        Toy Story     81.0\n",
      "1                          Jumanji    104.0\n",
      "2                 Grumpier Old Men    101.0\n",
      "3                Waiting to Exhale    127.0\n",
      "4      Father of the Bride Part II    106.0\n",
      "5                             Heat    170.0\n",
      "6                          Sabrina    127.0\n",
      "7                     Tom and Huck     97.0\n",
      "8                     Sudden Death    106.0\n",
      "9                        GoldenEye    130.0\n",
      "10          The American President    106.0\n",
      "11     Dracula: Dead and Loving It     88.0\n",
      "12                           Balto     78.0\n",
      "13                           Nixon    192.0\n",
      "14                Cutthroat Island    119.0\n",
      "15                          Casino    178.0\n",
      "16           Sense and Sensibility    136.0\n",
      "17                      Four Rooms     98.0\n",
      "18  Ace Ventura: When Nature Calls     90.0\n",
      "19                     Money Train    103.0\n",
      "20                      Get Shorty    105.0\n",
      "21                         Copycat    124.0\n",
      "22                       Assassins    132.0\n",
      "23                          Powder    111.0\n",
      "24               Leaving Las Vegas    112.0\n",
      "25                         Othello    123.0\n",
      "26                    Now and Then    100.0\n",
      "27                      Persuasion    104.0\n",
      "28       The City of Lost Children    108.0\n",
      "29                  Shanghai Triad    108.0\n",
      "30                 Dangerous Minds     99.0\n",
      "31                  Twelve Monkeys    129.0\n",
      "32                Wings of Courage     50.0\n",
      "33                            Babe     89.0\n",
      "34                      Carrington    121.0\n",
      "35                Dead Man Walking    122.0\n",
      "36          Across the Sea of Time     51.0\n",
      "37                    It Takes Two    101.0\n",
      "38                        Clueless     97.0\n",
      "39        Cry, the Beloved Country    106.0\n",
      "40                     Richard III    104.0\n",
      "41                 Dead Presidents    119.0\n",
      "42                     Restoration    117.0\n",
      "43                   Mortal Kombat    101.0\n",
      "44                      To Die For    106.0\n",
      "45   How To Make An American Quilt    116.0\n",
      "46                           Se7en    127.0\n",
      "47                      Pocahontas     81.0\n",
      "48           When Night Is Falling     96.0\n",
      "49              The Usual Suspects    106.0\n"
     ]
    }
   ],
   "source": [
    "print(\"5. Display the Movies (Title, Runtime) Longer than 30 Minutes and Shorter than 360 Minutes:\")\n",
    "pandas8_1 = pandas8[(pandas8['runtime'] < 360)]\n",
    "pandas8_2 = pandas8_1[pandas8_1['runtime'] > 30]\n",
    "pandas8_3 = pd.Series(pandas8_2[\"title\"])\n",
    "pandas8_4 = pd.Series(pandas8_2[\"runtime\"])\n",
    "pandas8_5 = pd.DataFrame({\"title\" : pandas8_3, \"runtime\" : pandas8_4})\n",
    "print(pandas8_5)"
   ]
  },
  {
   "cell_type": "code",
   "execution_count": null,
   "metadata": {},
   "outputs": [],
   "source": []
  },
  {
   "cell_type": "code",
   "execution_count": 51,
   "metadata": {},
   "outputs": [],
   "source": [
    "# Matplotlib: 4 questions, total 20 points."
   ]
  },
  {
   "cell_type": "code",
   "execution_count": 52,
   "metadata": {},
   "outputs": [],
   "source": [
    "# 1. [5 points]: plot several lines with different format styles in one command using arrays.\n",
    "# Sampled time at 200ms intervals\n",
    "t = np.arange(0., 5., 0.2)\n",
    "# green dashes, blue squares and red triangles to plot t, t**2, t**3.\n",
    "import matplotlib as mpl\n",
    "import matplotlib.pyplot as plt\n",
    "plt.style.use('classic')\n",
    "matplotlib1 = np.arange(0., 5., 0.2)\n",
    "plt.plot(t, '.', color = 'green');"
   ]
  },
  {
   "cell_type": "code",
   "execution_count": 55,
   "metadata": {},
   "outputs": [
    {
     "data": {
      "image/png": "[encoded data removed]",
      "text/plain": [
       "<Figure size 432x288 with 1 Axes>"
      ]
     },
     "metadata": {
      "needs_background": "light"
     },
     "output_type": "display_data"
    }
   ],
   "source": [
    "plt.plot(t, '.', color = 'green');"
   ]
  },
  {
   "cell_type": "code",
   "execution_count": 53,
   "metadata": {},
   "outputs": [
    {
     "data": {
      "image/png": "[encoded data removed]",
      "text/plain": [
       "<Figure size 432x288 with 1 Axes>"
      ]
     },
     "metadata": {
      "needs_background": "light"
     },
     "output_type": "display_data"
    }
   ],
   "source": [
    "plt.plot(t**2, 's', color = 'blue');"
   ]
  },
  {
   "cell_type": "code",
   "execution_count": 54,
   "metadata": {},
   "outputs": [
    {
     "data": {
      "image/png": "[encoded data removed]",
      "text/plain": [
       "<Figure size 432x288 with 1 Axes>"
      ]
     },
     "metadata": {
      "needs_background": "light"
     },
     "output_type": "display_data"
    }
   ],
   "source": [
    "plt.plot(t**3, '^', color = 'red');"
   ]
  },
  {
   "cell_type": "code",
   "execution_count": 54,
   "metadata": {},
   "outputs": [
    {
     "data": {
      "image/png": "[encoded data removed]",
      "text/plain": [
       "<Figure size 432x288 with 1 Axes>"
      ]
     },
     "metadata": {
      "needs_background": "light"
     },
     "output_type": "display_data"
    }
   ],
   "source": [
    "# 2. [5 points]: plot two or more lines with different styles\n",
    "# line 1 points\n",
    "# x1 = [10,20,30]\n",
    "# y1 = [20,40,10]\n",
    "# line 2 points\n",
    "# x2 = [10,20,30]\n",
    "# y2 = [40,10,30]\n",
    "# Set the x and y axes labels as 'x' and 'y';\n",
    "# Plot lines and/or markers to the Axes: blue, red; dotted, dashed;\n",
    "# Set a title: \"Plot with two or more lines with different styles\";\n",
    "# show a legend on the plot as 'line1-dotted', 'line2-dashed'.\n",
    "x1 = [10,20,30]\n",
    "y1 = [20,40,10]\n",
    "x2 = [10,20,30]\n",
    "y2 = [40,10,30]\n",
    "plt.title(\"Plot with two or more lines with different styles\")\n",
    "plt.xlabel(\"x\")\n",
    "plt.ylabel(\"y\")\n",
    "plt.plot(x1, y1, ':b', label = 'line1-dotted')\n",
    "plt.plot(x2, y2, '--r', label = 'line2-dashed')\n",
    "plt.axis('equal')\n",
    "plt.legend();"
   ]
  },
  {
   "cell_type": "code",
   "execution_count": 55,
   "metadata": {},
   "outputs": [
    {
     "data": {
      "image/png": "[encoded data removed]",
      "text/plain": [
       "<Figure size 432x288 with 2 Axes>"
      ]
     },
     "metadata": {
      "needs_background": "light"
     },
     "output_type": "display_data"
    }
   ],
   "source": [
    "# 3. [5 points]: draw a scatter plot with empty circles taking a 50-point random distribution in X and Y \n",
    "#  any color for face and edge, and plotted against each other.\n",
    "rng = np.random.RandomState(0)\n",
    "x = rng.randn(50)\n",
    "y = rng.randn(50)\n",
    "colors = rng.rand(50)\n",
    "sizes = 1000 * rng.rand(50)\n",
    "plt.scatter(x, y, c = colors, s = sizes, alpha = 0.4, cmap = 'viridis')\n",
    "plt.colorbar();"
   ]
  },
  {
   "cell_type": "code",
   "execution_count": 56,
   "metadata": {},
   "outputs": [
    {
     "name": "stdout",
     "output_type": "stream",
     "text": [
      "Sample Data Frame:\n",
      "    a  b  c  d  e\n",
      "2   4  8  5  7  6\n",
      "4   2  3  4  2  6\n",
      "6   4  7  4  7  8\n",
      "8   2  6  4  8  6\n",
      "10  2  4  3  3  2\n"
     ]
    }
   ],
   "source": [
    "# 4. [5 points]:  create bar plot from a DataFrame.\n",
    "# Sample Data Frame:\n",
    "#   a b c d e \n",
    "# 2 4,8,5,7,6\n",
    "# 4 2,3,4,2,6\n",
    "# 6 4,7,4,7,8\n",
    "# 8 2,6,4,8,6\n",
    "# 10 2,4,3,3,2\n",
    "plt.style.use('seaborn-white')\n",
    "print(\"Sample Data Frame:\")\n",
    "a = pd.Series({'2': 4, '4': 2,\n",
    "               '6': 4, '8': 2,\n",
    "               '10': 2})\n",
    "\n",
    "b = pd.Series({'2': 8, '4': 3,\n",
    "               '6': 7, '8': 6,\n",
    "               '10': 4})\n",
    "\n",
    "c = pd.Series({'2': 5, '4': 4,\n",
    "               '6': 4, '8': 4,\n",
    "               '10': 3})\n",
    "\n",
    "d = pd.Series({'2': 7, '4': 2,\n",
    "               '6': 7, '8': 8,\n",
    "               '10': 3})\n",
    "\n",
    "e = pd.Series({'2': 6, '4': 6,\n",
    "               '6': 8, '8': 6,\n",
    "               '10': 2})\n",
    "matplotlib4 = pd.DataFrame({'a':a, 'b':b, 'c':c, 'd':d, 'e':e})\n",
    "print(matplotlib4)"
   ]
  },
  {
   "cell_type": "code",
   "execution_count": 57,
   "metadata": {},
   "outputs": [
    {
     "data": {
      "text/plain": [
       "<matplotlib.axes._subplots.AxesSubplot at 0x112e519b0>"
      ]
     },
     "execution_count": 57,
     "metadata": {},
     "output_type": "execute_result"
    },
    {
     "data": {
      "image/png": "[encoded data removed]",
      "text/plain": [
       "<Figure size 432x288 with 1 Axes>"
      ]
     },
     "metadata": {},
     "output_type": "display_data"
    }
   ],
   "source": [
    "matplotlib4.plot.bar()"
   ]
  },
  {
   "cell_type": "code",
   "execution_count": 58,
   "metadata": {},
   "outputs": [
    {
     "data": {
      "text/plain": [
       "<matplotlib.axes._subplots.AxesSubplot at 0x1137560b8>"
      ]
     },
     "execution_count": 58,
     "metadata": {},
     "output_type": "execute_result"
    },
    {
     "data": {
      "image/png": "[encoded data removed]",
      "text/plain": [
       "<Figure size 432x288 with 1 Axes>"
      ]
     },
     "metadata": {},
     "output_type": "display_data"
    }
   ],
   "source": [
    "matplotlib4.plot.bar(stacked = True)"
   ]
  },
  {
   "cell_type": "code",
   "execution_count": 59,
   "metadata": {},
   "outputs": [
    {
     "data": {
      "text/plain": [
       "<matplotlib.axes._subplots.AxesSubplot at 0x113314ba8>"
      ]
     },
     "execution_count": 59,
     "metadata": {},
     "output_type": "execute_result"
    },
    {
     "data": {
      "image/png": "[encoded data removed]",
      "text/plain": [
       "<Figure size 432x288 with 1 Axes>"
      ]
     },
     "metadata": {},
     "output_type": "display_data"
    }
   ],
   "source": [
    "matplotlib4.plot.barh()"
   ]
  },
  {
   "cell_type": "code",
   "execution_count": 60,
   "metadata": {},
   "outputs": [
    {
     "data": {
      "text/plain": [
       "<matplotlib.axes._subplots.AxesSubplot at 0x113171f60>"
      ]
     },
     "execution_count": 60,
     "metadata": {},
     "output_type": "execute_result"
    },
    {
     "data": {
      "image/png": "[encoded data removed]",
      "text/plain": [
       "<Figure size 432x288 with 1 Axes>"
      ]
     },
     "metadata": {},
     "output_type": "display_data"
    }
   ],
   "source": [
    "matplotlib4.plot.barh(stacked=True)"
   ]
  }
 ],
 "metadata": {
  "kernelspec": {
   "display_name": "Python 3",
   "language": "python",
   "name": "python3"
  },
  "language_info": {
   "codemirror_mode": {
    "name": "ipython",
    "version": 3
   },
   "file_extension": ".py",
   "mimetype": "text/x-python",
   "name": "python",
   "nbconvert_exporter": "python",
   "pygments_lexer": "ipython3",
   "version": "3.7.2"
  }
 },
 "nbformat": 4,
 "nbformat_minor": 2
}
